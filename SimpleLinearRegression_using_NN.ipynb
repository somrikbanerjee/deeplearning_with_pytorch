{
  "nbformat": 4,
  "nbformat_minor": 0,
  "metadata": {
    "colab": {
      "name": "SimpleLinearRegression_using_NN.ipynb",
      "provenance": []
    },
    "kernelspec": {
      "name": "python3",
      "display_name": "Python 3"
    },
    "accelerator": "GPU"
  },
  "cells": [
    {
      "cell_type": "markdown",
      "metadata": {
        "id": "7i--zukg8lBM",
        "colab_type": "text"
      },
      "source": [
        "# Simple Linear Regression implemented using a basic neural net using PyTorch\n",
        "\n",
        "Note: Tensor operations performed using GPU and CUDA"
      ]
    },
    {
      "cell_type": "markdown",
      "metadata": {
        "id": "EnAHMbLs86aw",
        "colab_type": "text"
      },
      "source": [
        "#### 1. Loading data, loading modules, preprocessing"
      ]
    },
    {
      "cell_type": "code",
      "metadata": {
        "id": "HzN_YfUo4Vuz",
        "colab_type": "code",
        "colab": {
          "base_uri": "https://localhost:8080/",
          "height": 513
        },
        "outputId": "56c7fd14-aca7-410d-cc27-59c60a2f2bc3"
      },
      "source": [
        "import torch\n",
        "import numpy as np\n",
        "import pandas as pd\n",
        "import matplotlib.pyplot as plt\n",
        "import seaborn as sns\n",
        "from warnings import filterwarnings\n",
        "\n",
        "sns.set_style('whitegrid')\n",
        "filterwarnings('ignore')\n",
        "\n",
        "cuda = torch.device('cuda')\n",
        "dataset = pd.read_csv('Salary_Data.csv')\n",
        "\n",
        "for col in dataset.columns:\n",
        "    mean = dataset[col].mean()\n",
        "    sd = dataset[col].std()\n",
        "    dataset[col] = (dataset[col] - mean) / sd\n",
        "\n",
        "plt.figure(figsize = [10, 8]);\n",
        "plt.scatter(dataset['YearsExperience'], dataset['Salary'], c = 'blue');\n",
        "plt.xlabel('Experience'); plt.ylabel('Salary');\n",
        "plt.title('Years Exp vs Salary');"
      ],
      "execution_count": 69,
      "outputs": [
        {
          "output_type": "display_data",
          "data": {
            "image/png": "[encoded data removed]",
            "text/plain": [
              "<Figure size 720x576 with 1 Axes>"
            ]
          },
          "metadata": {
            "tags": []
          }
        }
      ]
    },
    {
      "cell_type": "markdown",
      "metadata": {
        "id": "kkN7x_R29Fyd",
        "colab_type": "text"
      },
      "source": [
        "#### 2. Neural Net Design"
      ]
    },
    {
      "cell_type": "code",
      "metadata": {
        "id": "lOyCt7kv4zla",
        "colab_type": "code",
        "colab": {}
      },
      "source": [
        "class Network():\n",
        "\n",
        "    def __init__(self, layers = [1, 1]):\n",
        "        self.w = []\n",
        "        for i in range(len(layers)-1):\n",
        "            self.w.append(torch.rand(layers[i], layers[i+1], \n",
        "                                     device = cuda,\n",
        "                                     requires_grad = True))\n",
        "\n",
        "    def train(self, x, y, epochs = 100, minibatch_size = 10,\n",
        "              learning_rate = 0.01):\n",
        "        for e in range(1, epochs + 1):\n",
        "            minibatch = x.sample(minibatch_size)\n",
        "            x_train = torch.from_numpy(minibatch.values.reshape(-1, 1)).float().to(cuda)\n",
        "            y_train = torch.from_numpy(y.values.reshape(-1, 1)[minibatch.index, :]).float().to(cuda)\n",
        "\n",
        "            y_pred = x_train.mm(self.w[0])\n",
        "            for i in range(1, len(self.w)):\n",
        "                y_pred = y_pred.mm(self.w[i])\n",
        "            loss = (y_train - y_pred).pow(2).sum()\n",
        "            print('Epoch {} of {}, loss = {}'.format(e, epochs, loss.item()))\n",
        "            loss.backward()\n",
        "            with torch.no_grad():\n",
        "                for weight in self.w:\n",
        "                    weight -= weight.grad * learning_rate\n",
        "                    weight.grad.zero_()\n",
        "\n",
        "    def pred(self, x):\n",
        "        predx = torch.from_numpy(x.values.reshape(-1, 1)).float().to(cuda)\n",
        "        y_pred = predx.mm(self.w[0])\n",
        "        for i in range(1, len(self.w)):\n",
        "            y_pred = y_pred.mm(self.w[i])\n",
        "        return y_pred.detach().cpu().numpy()\n",
        "    \n",
        "    def __repr__(self):\n",
        "        return str(self.w)"
      ],
      "execution_count": 0,
      "outputs": []
    },
    {
      "cell_type": "markdown",
      "metadata": {
        "id": "CVawdXAV9JL5",
        "colab_type": "text"
      },
      "source": [
        "#### 3. Neural Net training"
      ]
    },
    {
      "cell_type": "code",
      "metadata": {
        "id": "ojsCBzn2rZIS",
        "colab_type": "code",
        "colab": {
          "base_uri": "https://localhost:8080/",
          "height": 867
        },
        "outputId": "72302a53-d05a-427b-db98-06e04d3cd4e6"
      },
      "source": [
        "n = Network([1, 1])\n",
        "n.train(dataset['YearsExperience'], dataset['Salary'], \n",
        "        epochs = 50, minibatch_size = 10)"
      ],
      "execution_count": 79,
      "outputs": [
        {
          "output_type": "stream",
          "text": [
            "Epoch 1 of 50, loss = 4.490486145019531\n",
            "Epoch 2 of 50, loss = 3.55183482170105\n",
            "Epoch 3 of 50, loss = 3.544008731842041\n",
            "Epoch 4 of 50, loss = 1.8770411014556885\n",
            "Epoch 5 of 50, loss = 1.3603627681732178\n",
            "Epoch 6 of 50, loss = 1.1892497539520264\n",
            "Epoch 7 of 50, loss = 0.8889604806900024\n",
            "Epoch 8 of 50, loss = 0.8396782875061035\n",
            "Epoch 9 of 50, loss = 0.5322450995445251\n",
            "Epoch 10 of 50, loss = 0.3965603709220886\n",
            "Epoch 11 of 50, loss = 0.4760042428970337\n",
            "Epoch 12 of 50, loss = 0.5222398638725281\n",
            "Epoch 13 of 50, loss = 0.20763729512691498\n",
            "Epoch 14 of 50, loss = 0.30142608284950256\n",
            "Epoch 15 of 50, loss = 0.40146785974502563\n",
            "Epoch 16 of 50, loss = 0.3567007780075073\n",
            "Epoch 17 of 50, loss = 0.1659649759531021\n",
            "Epoch 18 of 50, loss = 0.6111904382705688\n",
            "Epoch 19 of 50, loss = 0.16873815655708313\n",
            "Epoch 20 of 50, loss = 0.5874754786491394\n",
            "Epoch 21 of 50, loss = 0.4152810573577881\n",
            "Epoch 22 of 50, loss = 0.36957287788391113\n",
            "Epoch 23 of 50, loss = 0.45558595657348633\n",
            "Epoch 24 of 50, loss = 0.25315484404563904\n",
            "Epoch 25 of 50, loss = 0.5356096625328064\n",
            "Epoch 26 of 50, loss = 0.45257800817489624\n",
            "Epoch 27 of 50, loss = 0.47244423627853394\n",
            "Epoch 28 of 50, loss = 0.35784977674484253\n",
            "Epoch 29 of 50, loss = 0.49429792165756226\n",
            "Epoch 30 of 50, loss = 0.5402011275291443\n",
            "Epoch 31 of 50, loss = 0.7393768429756165\n",
            "Epoch 32 of 50, loss = 0.44417980313301086\n",
            "Epoch 33 of 50, loss = 0.4800308346748352\n",
            "Epoch 34 of 50, loss = 0.2976005971431732\n",
            "Epoch 35 of 50, loss = 0.4265097379684448\n",
            "Epoch 36 of 50, loss = 0.3761005699634552\n",
            "Epoch 37 of 50, loss = 0.34968888759613037\n",
            "Epoch 38 of 50, loss = 0.5089269876480103\n",
            "Epoch 39 of 50, loss = 0.5474787950515747\n",
            "Epoch 40 of 50, loss = 0.5982877016067505\n",
            "Epoch 41 of 50, loss = 0.28479447960853577\n",
            "Epoch 42 of 50, loss = 0.43935298919677734\n",
            "Epoch 43 of 50, loss = 0.4984830617904663\n",
            "Epoch 44 of 50, loss = 0.47838616371154785\n",
            "Epoch 45 of 50, loss = 0.6966322064399719\n",
            "Epoch 46 of 50, loss = 0.3616517186164856\n",
            "Epoch 47 of 50, loss = 0.40060871839523315\n",
            "Epoch 48 of 50, loss = 0.502271831035614\n",
            "Epoch 49 of 50, loss = 0.353115975856781\n",
            "Epoch 50 of 50, loss = 0.4966863691806793\n"
          ],
          "name": "stdout"
        }
      ]
    },
    {
      "cell_type": "markdown",
      "metadata": {
        "id": "XGkn0S_29MaX",
        "colab_type": "text"
      },
      "source": [
        "#### 4. Prediction and end results"
      ]
    },
    {
      "cell_type": "code",
      "metadata": {
        "id": "gNEnXbAxrq0p",
        "colab_type": "code",
        "colab": {
          "base_uri": "https://localhost:8080/",
          "height": 513
        },
        "outputId": "54a997c8-aac4-4de3-94cd-ec68a73ef7d7"
      },
      "source": [
        "y_pred = n.pred(dataset['YearsExperience'])\n",
        "\n",
        "plt.figure(figsize = [10, 8]);\n",
        "plt.scatter(dataset['YearsExperience'], dataset['Salary'], c = 'blue');\n",
        "plt.plot(dataset['YearsExperience'], y_pred, c = 'red')\n",
        "plt.xlabel('Experience'); plt.ylabel('Salary');\n",
        "plt.title('Years Exp vs Salary');"
      ],
      "execution_count": 80,
      "outputs": [
        {
          "output_type": "display_data",
          "data": {
            "image/png": "[encoded data removed]",
            "text/plain": [
              "<Figure size 720x576 with 1 Axes>"
            ]
          },
          "metadata": {
            "tags": []
          }
        }
      ]
    }
  ]
}