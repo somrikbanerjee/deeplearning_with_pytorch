{
  "nbformat": 4,
  "nbformat_minor": 0,
  "metadata": {
    "colab": {
      "name": "MultipleLinearRegression_using_NN.ipynb",
      "provenance": [],
      "toc_visible": true
    },
    "kernelspec": {
      "name": "python3",
      "display_name": "Python 3"
    },
    "accelerator": "GPU"
  },
  "cells": [
    {
      "cell_type": "markdown",
      "metadata": {
        "id": "cg6-wgYbTeZh",
        "colab_type": "text"
      },
      "source": [
        "# Multiple Linear Regression using Neural Network\n",
        "\n",
        "NOTE: Tensor operations are performed on GPU using CUDA"
      ]
    },
    {
      "cell_type": "markdown",
      "metadata": {
        "id": "_VuFJUaiTqPf",
        "colab_type": "text"
      },
      "source": [
        "#### 1. Loading data, modules, data preprocessing"
      ]
    },
    {
      "cell_type": "code",
      "metadata": {
        "id": "kTR1qp_6E0U5",
        "colab_type": "code",
        "outputId": "770d0322-b322-4077-e17a-685b3fdea56b",
        "colab": {
          "base_uri": "https://localhost:8080/",
          "height": 204
        }
      },
      "source": [
        "import torch\n",
        "import numpy as np\n",
        "import pandas as pd\n",
        "\n",
        "cuda = torch.device('cuda')\n",
        "dataset = pd.read_csv('50_Startups.csv')\n",
        "\n",
        "dummies = pd.get_dummies(dataset['State'], drop_first = True)\n",
        "dataset = pd.merge(dataset, dummies, left_index = True, right_index = True)\n",
        "dataset = dataset.drop('State', axis = 1)\n",
        "\n",
        "training_data = dataset.sample(frac = 0.75)\n",
        "test_data = dataset.drop(index = training_data.index)\n",
        "\n",
        "mean = training_data.mean()\n",
        "sd = training_data.std()\n",
        "\n",
        "training_data = (training_data - mean) / sd\n",
        "test_data = (test_data - mean) / sd\n",
        "\n",
        "x_train = training_data.drop('Profit', axis = 1)\n",
        "y_train = training_data['Profit']\n",
        "\n",
        "x_test = test_data.drop('Profit', axis = 1)\n",
        "y_test = test_data['Profit']\n",
        "\n",
        "x_train.head()"
      ],
      "execution_count": 1,
      "outputs": [
        {
          "output_type": "execute_result",
          "data": {
            "text/html": [
              "<div>\n",
              "<style scoped>\n",
              "    .dataframe tbody tr th:only-of-type {\n",
              "        vertical-align: middle;\n",
              "    }\n",
              "\n",
              "    .dataframe tbody tr th {\n",
              "        vertical-align: top;\n",
              "    }\n",
              "\n",
              "    .dataframe thead th {\n",
              "        text-align: right;\n",
              "    }\n",
              "</style>\n",
              "<table border=\"1\" class=\"dataframe\">\n",
              "  <thead>\n",
              "    <tr style=\"text-align: right;\">\n",
              "      <th></th>\n",
              "      <th>R&amp;D Spend</th>\n",
              "      <th>Administration</th>\n",
              "      <th>Marketing Spend</th>\n",
              "      <th>Florida</th>\n",
              "      <th>New York</th>\n",
              "    </tr>\n",
              "  </thead>\n",
              "  <tbody>\n",
              "    <tr>\n",
              "      <th>23</th>\n",
              "      <td>-0.235069</td>\n",
              "      <td>-0.459936</td>\n",
              "      <td>0.728872</td>\n",
              "      <td>1.452463</td>\n",
              "      <td>-0.670368</td>\n",
              "    </tr>\n",
              "    <tr>\n",
              "      <th>46</th>\n",
              "      <td>-1.763618</td>\n",
              "      <td>-0.121137</td>\n",
              "      <td>0.663525</td>\n",
              "      <td>1.452463</td>\n",
              "      <td>-0.670368</td>\n",
              "    </tr>\n",
              "    <tr>\n",
              "      <th>20</th>\n",
              "      <td>-0.033747</td>\n",
              "      <td>-0.186738</td>\n",
              "      <td>0.676758</td>\n",
              "      <td>-0.670368</td>\n",
              "      <td>-0.670368</td>\n",
              "    </tr>\n",
              "    <tr>\n",
              "      <th>42</th>\n",
              "      <td>-1.248259</td>\n",
              "      <td>-0.781777</td>\n",
              "      <td>-0.609506</td>\n",
              "      <td>-0.670368</td>\n",
              "      <td>-0.670368</td>\n",
              "    </tr>\n",
              "    <tr>\n",
              "      <th>11</th>\n",
              "      <td>0.529919</td>\n",
              "      <td>-0.929850</td>\n",
              "      <td>0.259112</td>\n",
              "      <td>-0.670368</td>\n",
              "      <td>-0.670368</td>\n",
              "    </tr>\n",
              "  </tbody>\n",
              "</table>\n",
              "</div>"
            ],
            "text/plain": [
              "    R&D Spend  Administration  Marketing Spend   Florida  New York\n",
              "23  -0.235069       -0.459936         0.728872  1.452463 -0.670368\n",
              "46  -1.763618       -0.121137         0.663525  1.452463 -0.670368\n",
              "20  -0.033747       -0.186738         0.676758 -0.670368 -0.670368\n",
              "42  -1.248259       -0.781777        -0.609506 -0.670368 -0.670368\n",
              "11   0.529919       -0.929850         0.259112 -0.670368 -0.670368"
            ]
          },
          "metadata": {
            "tags": []
          },
          "execution_count": 1
        }
      ]
    },
    {
      "cell_type": "code",
      "metadata": {
        "id": "c62b8sYqT_rZ",
        "colab_type": "code",
        "outputId": "7e862135-9798-4a4e-9173-25ba8eab6b0c",
        "colab": {
          "base_uri": "https://localhost:8080/",
          "height": 119
        }
      },
      "source": [
        "y_train.head()"
      ],
      "execution_count": 2,
      "outputs": [
        {
          "output_type": "execute_result",
          "data": {
            "text/plain": [
              "23   -0.141201\n",
              "46   -1.631391\n",
              "20    0.103797\n",
              "42   -1.077814\n",
              "11    0.752396\n",
              "Name: Profit, dtype: float64"
            ]
          },
          "metadata": {
            "tags": []
          },
          "execution_count": 2
        }
      ]
    },
    {
      "cell_type": "markdown",
      "metadata": {
        "id": "hOjiJIWrXb-R",
        "colab_type": "text"
      },
      "source": [
        "#### 2. Neural Net Design"
      ]
    },
    {
      "cell_type": "code",
      "metadata": {
        "id": "gV7y4zNTXF5N",
        "colab_type": "code",
        "colab": {}
      },
      "source": [
        "class Network():\n",
        "\n",
        "    def __init__(self, layers = [1, 1]):\n",
        "        self.w = []\n",
        "        for i in range(len(layers)-1):\n",
        "            self.w.append(torch.rand(layers[i], layers[i+1], \n",
        "                                     device = cuda,\n",
        "                                     requires_grad = True))\n",
        "\n",
        "    def train(self, x, y, epochs = 100, learning_rate = 0.01):\n",
        "        losses = []\n",
        "        for e in range(1, epochs + 1):\n",
        "            x_train = torch.from_numpy(x.values).float().to(cuda)\n",
        "            y_train = torch.from_numpy(y.values.reshape(-1, 1)).float().to(cuda)\n",
        "\n",
        "            y_pred = x_train.mm(self.w[0])\n",
        "            for i in range(1, len(self.w)):\n",
        "                y_pred = y_pred.mm(self.w[i])\n",
        "            loss = (y_train - y_pred).pow(2).sum()\n",
        "            losses.append(loss)\n",
        "            # print('Epoch {} of {}, loss = {}'.format(e, epochs, loss.item()))\n",
        "            loss.backward()\n",
        "            with torch.no_grad():\n",
        "                for weight in self.w:\n",
        "                    weight -= weight.grad * learning_rate\n",
        "                    weight.grad.zero_()\n",
        "        return losses\n",
        "\n",
        "    def pred(self, x):\n",
        "        predx = torch.from_numpy(x.values).float().to(cuda)\n",
        "        y_pred = predx.mm(self.w[0])\n",
        "        for i in range(1, len(self.w)):\n",
        "            y_pred = y_pred.mm(self.w[i])\n",
        "        return y_pred.detach().cpu().numpy()"
      ],
      "execution_count": 0,
      "outputs": []
    },
    {
      "cell_type": "markdown",
      "metadata": {
        "id": "0TebCEutXu43",
        "colab_type": "text"
      },
      "source": [
        "#### 3. Initializing and training the net"
      ]
    },
    {
      "cell_type": "code",
      "metadata": {
        "id": "3lrmi_XJXyi7",
        "colab_type": "code",
        "outputId": "27787caf-0761-4485-eb2e-5fae09894bb9",
        "colab": {
          "base_uri": "https://localhost:8080/",
          "height": 513
        }
      },
      "source": [
        "x_train['Bias'] = 1\n",
        "x_test['Bias'] = 1\n",
        "\n",
        "network = Network([6, 1])\n",
        "losses = network.train(x_train, y_train)\n",
        "\n",
        "import matplotlib.pyplot as plt\n",
        "import seaborn as sns\n",
        "sns.set_style('whitegrid')\n",
        "\n",
        "plt.figure(figsize = (10, 8));\n",
        "plt.plot(np.arange(1, 101), losses, c = 'red');\n",
        "plt.xlabel('Epochs'); plt.ylabel('Loss (MSE)');\n",
        "plt.title('Reduction of MSE with epochs');"
      ],
      "execution_count": 19,
      "outputs": [
        {
          "output_type": "display_data",
          "data": {
            "image/png": "[encoded data removed]",
            "text/plain": [
              "<Figure size 720x576 with 1 Axes>"
            ]
          },
          "metadata": {
            "tags": []
          }
        }
      ]
    },
    {
      "cell_type": "markdown",
      "metadata": {
        "id": "Bi0vNir2f_c_",
        "colab_type": "text"
      },
      "source": [
        "#### 4. Predictions and end results"
      ]
    },
    {
      "cell_type": "code",
      "metadata": {
        "id": "2dn1jt0xYNq5",
        "colab_type": "code",
        "outputId": "12135c22-685d-4e18-8697-2f37378e6145",
        "colab": {
          "base_uri": "https://localhost:8080/",
          "height": 513
        }
      },
      "source": [
        "y_pred = network.pred(x_test)\n",
        "\n",
        "plt.figure(figsize = (10, 8));\n",
        "plt.scatter(y_test, y_pred, c = 'blue');\n",
        "plt.xlabel('True Profit'); plt.ylabel('Predicted Profit');\n",
        "plt.title('Accuracy of predicted profits');"
      ],
      "execution_count": 20,
      "outputs": [
        {
          "output_type": "display_data",
          "data": {
            "image/png": "[encoded data removed]",
            "text/plain": [
              "<Figure size 720x576 with 1 Axes>"
            ]
          },
          "metadata": {
            "tags": []
          }
        }
      ]
    },
    {
      "cell_type": "code",
      "metadata": {
        "id": "KR_V-WligH0-",
        "colab_type": "code",
        "outputId": "472bfe25-4e3a-4ed3-e400-a4a6688a7866",
        "colab": {
          "base_uri": "https://localhost:8080/",
          "height": 34
        }
      },
      "source": [
        "print('MSE = {}'.format(((y_test.ravel() - y_pred.ravel())**2).sum()))"
      ],
      "execution_count": 21,
      "outputs": [
        {
          "output_type": "stream",
          "text": [
            "MSE = 0.8759609087172966\n"
          ],
          "name": "stdout"
        }
      ]
    }
  ]
}